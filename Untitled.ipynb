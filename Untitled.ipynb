{
 "cells": [
  {
   "cell_type": "code",
   "execution_count": 1,
   "id": "f8711aeb",
   "metadata": {},
   "outputs": [],
   "source": [
    "def read_key():\n",
    "    link.read_key(\".key\")\n",
    "    return True"
   ]
  },
  {
   "cell_type": "code",
   "execution_count": 2,
   "id": "85849172",
   "metadata": {},
   "outputs": [],
   "source": [
    "def get_data(ticker):\n",
    "    data = link.get(ticker)\n",
    "    return data"
   ]
  },
  {
   "cell_type": "code",
   "execution_count": 3,
   "id": "c57d04f3",
   "metadata": {},
   "outputs": [],
   "source": [
    "def main():\n",
    "    api_link = read_key()\n",
    "    if api_link:\n",
    "        ticker = \"NSE/OIL\"\n",
    "        data = get_data(ticker)\n",
    "        print(data)"
   ]
  },
  {
   "cell_type": "code",
   "execution_count": null,
   "id": "8eb403cf",
   "metadata": {},
   "outputs": [],
   "source": []
  }
 ],
 "metadata": {
  "kernelspec": {
   "display_name": "finance",
   "language": "python",
   "name": "finance"
  },
  "language_info": {
   "codemirror_mode": {
    "name": "ipython",
    "version": 3
   },
   "file_extension": ".py",
   "mimetype": "text/x-python",
   "name": "python",
   "nbconvert_exporter": "python",
   "pygments_lexer": "ipython3",
   "version": "3.9.10"
  }
 },
 "nbformat": 4,
 "nbformat_minor": 5
}
