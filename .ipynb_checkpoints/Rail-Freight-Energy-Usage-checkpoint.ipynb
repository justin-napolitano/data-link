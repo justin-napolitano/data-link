{
 "cells": [
  {
   "cell_type": "code",
   "execution_count": 12,
   "id": "9bf8e078",
   "metadata": {},
   "outputs": [],
   "source": [
    "import nasdaqdatalink as link\n",
    "import matplotlib.pyplot as plt\n",
    "import numpy as np\n",
    "import pandas as pd"
   ]
  },
  {
   "cell_type": "code",
   "execution_count": 4,
   "id": "9a64f033",
   "metadata": {},
   "outputs": [],
   "source": [
    "def read_key():\n",
    "    link.read_key(\".key\")\n",
    "    return True"
   ]
  },
  {
   "cell_type": "code",
   "execution_count": 5,
   "id": "36a89ecc",
   "metadata": {},
   "outputs": [],
   "source": [
    "def get_data(ticker):\n",
    "    data = link.get(ticker)\n",
    "    return data"
   ]
  },
  {
   "cell_type": "code",
   "execution_count": 6,
   "id": "204f7e2b",
   "metadata": {},
   "outputs": [],
   "source": [
    "def main():\n",
    "    api_link = read_key()\n",
    "    if api_link:\n",
    "        datalink = \"EIA/AEO_2016_REF2016_EFI_NA_TRN_RAIL_NA_NA_NA_TONMLPTHBTU_A\"\n",
    "        data = get_data(datalink)\n",
    "        print(data)"
   ]
  },
  {
   "cell_type": "code",
   "execution_count": 52,
   "id": "7314fe64",
   "metadata": {},
   "outputs": [
    {
     "ename": "IndentationError",
     "evalue": "unexpected unindent (1257705185.py, line 106)",
     "output_type": "error",
     "traceback": [
      "\u001b[0;36m  Input \u001b[0;32mIn [52]\u001b[0;36m\u001b[0m\n\u001b[0;31m    def plot_df(ReturnObject):\u001b[0m\n\u001b[0m    ^\u001b[0m\n\u001b[0;31mIndentationError\u001b[0m\u001b[0;31m:\u001b[0m unexpected unindent\n"
     ]
    }
   ],
   "source": [
    "class EfficiencyPipeline():\n",
    "    \n",
    "    class ReturnData():\n",
    "        def __init__(self,dataframe,unit,ticker,title,xlabel):\n",
    "            self.dataframe = dataframe\n",
    "            self.unit = unit\n",
    "            self.ticker = ticker\n",
    "            self.title = title\n",
    "            self.xlabel = xlabel\n",
    "            \n",
    "    def __init__(self):\n",
    "        self.api_link = self.read_key()\n",
    "        \n",
    "        if self.api_link:\n",
    "            \n",
    "            #self.fig, self.ax=self.create_plot()\n",
    "            self.efficiencyObject = self.GetFuelEfficiencyData()\n",
    "            self.plot_efficiency_df(self.efficiencyObject)\n",
    "            \n",
    "            #Getting Carbon Dioxide Data\n",
    "            \n",
    "            self.CarbonDioxideObject = self.GetCarbonDioxideData()\n",
    "            self.plot_df(self.CarbonDioxideObject)\n",
    "            #self.LoanDemandDF = self.loan_demand()\n",
    "            #self.plot_efficiency_df()\n",
    "            #plt.show()\n",
    "            #self.plot_demand_df()\n",
    "            #self.plot_extras()\n",
    "            #plt.show()\n",
    "            \n",
    "            #figure = self.plot_demand_df(figure)\n",
    "            \n",
    "    @staticmethod        \n",
    "    def get_data(ticker):\n",
    "        data = link.get(ticker)\n",
    "        return data\n",
    "    \n",
    "    def read_key(self):\n",
    "        link.read_key(\".key\")\n",
    "        return True\n",
    "    \n",
    "    def GetCarbonDioxideData(self):\n",
    "        ticker = \"EIA/AEO_2016_REF2016_EMI_CO2_TRN_RLF_NA_NA_NA_MILLMETNCO2_A\"\n",
    "        unit = \"MMmt CO2\"\n",
    "        title = \"Freight Raile Carbon Production\" \n",
    "        xlabel = \"Date\"\n",
    "        data = self.get_data(ticker)\n",
    "        data = pd.DataFrame(data)\n",
    "        CarbonDioxideObject = self.ReturnData(data,unit,ticker,title,xlabel)\n",
    "        \n",
    "        #data.rename({'Value': unit}, axis=1, inplace=True)\n",
    "        print('******Fuel Carbon Dioxide Production********')\n",
    "        print(FuelEfficiencyObject.dataframe)\n",
    "        print(FuelEfficiencyObject.unit)\n",
    "        print(FuelEfficiencyObject.ticker)\n",
    "        #print(data)\n",
    "        #print(data.columns)\n",
    "        return FuelEfficiencyObject\n",
    "    \n",
    "    def GetFuelEfficiencyData(self):\n",
    "        ticker = \"EIA/AEO_2016_REF2016_EFI_NA_TRN_RAIL_NA_NA_NA_TONMLPTHBTU_A\"\n",
    "        unit = \"ton miles/thousand\"\n",
    "        title = \"Freight Fuel Efficiency\" \n",
    "        xlabel = \"Date\"\n",
    "        data = self.get_data(ticker)\n",
    "        data = pd.DataFrame(data)\n",
    "        FuelEfficiencyObject = self.ReturnData(data,unit,ticker,title,xlabel)\n",
    "        \n",
    "        #data.rename({'Value': unit}, axis=1, inplace=True)\n",
    "        print('******Fuel Efficiency********')\n",
    "        print(FuelEfficiencyObject.dataframe)\n",
    "        print(FuelEfficiencyObject.unit)\n",
    "        print(FuelEfficiencyObject.ticker)\n",
    "        #print(data)\n",
    "        #print(data.columns)\n",
    "        return FuelEfficiencyObject\n",
    "        \n",
    "\n",
    "    def PercentofBanksTighteningStandards(self):\n",
    "        ticker = \"FED/SUBLPDMHS_XWB_N_Q\"\n",
    "        data = get_data(ticker)\n",
    "        data = pd.DataFrame(data)\n",
    "        print('******Standards********')\n",
    "        print(data)\n",
    "        return data\n",
    "    \n",
    "    def loan_demand(self):\n",
    "        ticker = \"FED/SUBLPDMHD_XWB_N_Q\"\n",
    "        data = get_data(ticker)\n",
    "        data = pd.DataFrame(data)\n",
    "        print('******Demand********')\n",
    "        print(data)\n",
    "        return data\n",
    "        \n",
    "    @staticmethod\n",
    "    def plot_efficiency_df(ReturnObject):\n",
    "        \n",
    "        plt.style.use('ggplot')\n",
    "        index = ReturnObject.dataframe.index\n",
    "        qx = ReturnObject.dataframe.plot(use_index=True, y = 'Value',kind='line', title =ReturnObject.title,figsize=(15,10),legend=True, fontsize=12)\n",
    "        qx.set_xlabel(ReturnObject.xlabel,fontsize=12)\n",
    "        qx.set_ylabel(ReturnObject.unit,fontsize=12)\n",
    "        plt.show()\n",
    "        \n",
    "    @staticmethod\n",
    "    def plot_df(ReturnObject):\n",
    "        \n",
    "        plt.style.use('ggplot')\n",
    "        index = ReturnObject.dataframe.index\n",
    "        qx = ReturnObject.dataframe.plot(use_index=True, y = 'Value',kind='line', title =ReturnObject.title,figsize=(15,10),legend=True, fontsize=12)\n",
    "        qx.set_xlabel(ReturnObject.xlabel,fontsize=12)\n",
    "        qx.set_ylabel(ReturnObject.unit,fontsize=12)\n",
    "        plt.show()\n",
    "        \n",
    "        \n",
    "    def plot_demand_df(self):\n",
    "        #plt.style.use('_mpl-gallery')\n",
    "        x = self.LoanDemandDF.index\n",
    "        y = self.LoanDemandDF[\"Value\"]\n",
    "        \n",
    "        self.ax.plot(x,y, linewidth=3.0, label=\"Consumer Demand\")\n",
    "        #plt.show()\n",
    "        #return plt\n",
    "        \n",
    "    def plot_standards_df(self):\n",
    "        #plt.style.use('_mpl-gallery')\n",
    "        x = self.StandardDF.index\n",
    "        y = self.StandardDF[\"Value\"]\n",
    "        \n",
    "        self.ax.plot(x, y, linewidth=3.0, label=\"Loan Standards\")\n",
    "        #plt.show()\n",
    "        \n",
    "        #return plt\n",
    "    \n",
    "    def create_plot(self):\n",
    "        fig, ax = plt.subplots(figsize=(10,10))\n",
    "        return fig, ax\n",
    "    \n",
    "    def plot_extras(self):\n",
    "        plt.legend(loc='best')\n"
   ]
  },
  {
   "cell_type": "code",
   "execution_count": 53,
   "id": "3f878fb3",
   "metadata": {},
   "outputs": [
    {
     "name": "stdout",
     "output_type": "stream",
     "text": [
      "******Fuel Efficiency********\n",
      "               Value\n",
      "Date                \n",
      "2014-12-31  3.481205\n",
      "2015-12-31  3.506685\n",
      "2016-12-31  3.532352\n",
      "2017-12-31  3.558207\n",
      "2018-12-31  3.584251\n",
      "2019-12-31  3.610485\n",
      "2020-12-31  3.636912\n",
      "2021-12-31  3.663532\n",
      "2022-12-31  3.690347\n",
      "2023-12-31  3.717358\n",
      "2024-12-31  3.744567\n",
      "2025-12-31  3.771975\n",
      "2026-12-31  3.799583\n",
      "2027-12-31  3.827394\n",
      "2028-12-31  3.855408\n",
      "2029-12-31  3.883627\n",
      "2030-12-31  3.912053\n",
      "2031-12-31  3.940687\n",
      "2032-12-31  3.969530\n",
      "2033-12-31  3.998585\n",
      "2034-12-31  4.027852\n",
      "2035-12-31  4.057333\n",
      "2036-12-31  4.087031\n",
      "2037-12-31  4.116945\n",
      "2038-12-31  4.147079\n",
      "2039-12-31  4.177433\n",
      "2040-12-31  4.208009\n",
      "ton miles/thousand\n",
      "EIA/AEO_2016_REF2016_EFI_NA_TRN_RAIL_NA_NA_NA_TONMLPTHBTU_A\n"
     ]
    },
    {
     "data": {
      "image/png": "[encoded data removed]",
      "text/plain": [
       "<Figure size 1080x720 with 1 Axes>"
      ]
     },
     "metadata": {},
     "output_type": "display_data"
    }
   ],
   "source": [
    "output = EfficiencyPipeline()"
   ]
  },
  {
   "cell_type": "code",
   "execution_count": 7,
   "id": "9e9d8c94",
   "metadata": {},
   "outputs": [
    {
     "ename": "NameError",
     "evalue": "name 'link' is not defined",
     "output_type": "error",
     "traceback": [
      "\u001b[0;31m---------------------------------------------------------------------------\u001b[0m",
      "\u001b[0;31mNameError\u001b[0m                                 Traceback (most recent call last)",
      "Input \u001b[0;32mIn [7]\u001b[0m, in \u001b[0;36m<cell line: 1>\u001b[0;34m()\u001b[0m\n\u001b[0;32m----> 1\u001b[0m \u001b[43mmain\u001b[49m\u001b[43m(\u001b[49m\u001b[43m)\u001b[49m\n",
      "Input \u001b[0;32mIn [6]\u001b[0m, in \u001b[0;36mmain\u001b[0;34m()\u001b[0m\n\u001b[1;32m      1\u001b[0m \u001b[38;5;28;01mdef\u001b[39;00m \u001b[38;5;21mmain\u001b[39m():\n\u001b[0;32m----> 2\u001b[0m     api_link \u001b[38;5;241m=\u001b[39m \u001b[43mread_key\u001b[49m\u001b[43m(\u001b[49m\u001b[43m)\u001b[49m\n\u001b[1;32m      3\u001b[0m     \u001b[38;5;28;01mif\u001b[39;00m api_link:\n\u001b[1;32m      4\u001b[0m         datalink \u001b[38;5;241m=\u001b[39m \u001b[38;5;124m\"\u001b[39m\u001b[38;5;124mEIA/AEO_2016_REF2016_EFI_NA_TRN_RAIL_NA_NA_NA_TONMLPTHBTU_A\u001b[39m\u001b[38;5;124m\"\u001b[39m\n",
      "Input \u001b[0;32mIn [4]\u001b[0m, in \u001b[0;36mread_key\u001b[0;34m()\u001b[0m\n\u001b[1;32m      1\u001b[0m \u001b[38;5;28;01mdef\u001b[39;00m \u001b[38;5;21mread_key\u001b[39m():\n\u001b[0;32m----> 2\u001b[0m     \u001b[43mlink\u001b[49m\u001b[38;5;241m.\u001b[39mread_key(\u001b[38;5;124m\"\u001b[39m\u001b[38;5;124m.key\u001b[39m\u001b[38;5;124m\"\u001b[39m)\n\u001b[1;32m      3\u001b[0m     \u001b[38;5;28;01mreturn\u001b[39;00m \u001b[38;5;28;01mTrue\u001b[39;00m\n",
      "\u001b[0;31mNameError\u001b[0m: name 'link' is not defined"
     ]
    }
   ],
   "source": [
    "main()"
   ]
  },
  {
   "cell_type": "code",
   "execution_count": null,
   "id": "d5fe7fad",
   "metadata": {},
   "outputs": [],
   "source": []
  }
 ],
 "metadata": {
  "kernelspec": {
   "display_name": "finance",
   "language": "python",
   "name": "finance"
  },
  "language_info": {
   "codemirror_mode": {
    "name": "ipython",
    "version": 3
   },
   "file_extension": ".py",
   "mimetype": "text/x-python",
   "name": "python",
   "nbconvert_exporter": "python",
   "pygments_lexer": "ipython3",
   "version": "3.9.10"
  }
 },
 "nbformat": 4,
 "nbformat_minor": 5
}
